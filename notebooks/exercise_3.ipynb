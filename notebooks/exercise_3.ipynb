{
 "cells": [
  {
   "cell_type": "markdown",
   "metadata": {},
   "source": [
    "Exercise 3: DataFrame exercise"
   ]
  },
  {
   "cell_type": "code",
   "execution_count": 1,
   "metadata": {},
   "outputs": [],
   "source": [
    "import pyspark\n",
    "from pyspark.sql import SparkSession\n"
   ]
  },
  {
   "cell_type": "code",
   "execution_count": 2,
   "metadata": {},
   "outputs": [],
   "source": [
    "spark = SparkSession.builder \\\n",
    "    .appName(\"Python Spark SQL Exercise 3\") \\\n",
    "    .master(\"local[*]\") \\\n",
    "    .getOrCreate()"
   ]
  },
  {
   "cell_type": "code",
   "execution_count": 3,
   "metadata": {},
   "outputs": [],
   "source": [
    "rdd = spark.sparkContext.parallelize([\n",
    "    (1, 2, \"Quest Q64 10 FT\", 59.98, 1),\n",
    "    (2, 2, \"Under Armour Men\", 79.98, 1),\n",
    "    (3, 3, \"Nike Men's Running Shoes\", 120.00, 2),\n",
    "    (4, 3, \"Adidas Women's Running Shoes\", 110.00, 2),\n",
    "    (5, 4, \"Puma Men's T-Shirt\", 25.00, 3),\n",
    "    (6, 4, \"Reebok Women's T-Shirt\", 22.00, 3),\n",
    "    (7, 5, \"Asics Men's Shorts\", 30.00, 4),\n",
    "    (8, 5, \"New Balance Women's Shorts\", 28.00, 4),\n",
    "    (9, 6, \"Columbia Men's Jacket\", 100.00, 5),\n",
    "    (10, 6, \"North Face Women's Jacket\", 150.00, 5),\n",
    "    (11, 7, \"Patagonia Men's Fleece\", 130.00, 6),\n",
    "    (12, 7, \"Marmot Women's Fleece\", 120.00, 6),\n",
    "    (13, 8, \"Arc'teryx Men's Pants\", 200.00, 7),\n",
    "    (14, 8, \"Mountain Hardwear Women's Pants\", 180.00, 7),\n",
    "    (15, 9, \"Salomon Men's Hiking Boots\", 140.00, 8),\n",
    "    (16, 9, \"Merrell Women's Hiking Boots\", 130.00, 8),\n",
    "    (17, 10, \"Black Diamond Men's Gloves\", 50.00, 9),\n",
    "    (18, 10, \"Outdoor Research Women's Gloves\", 45.00, 9),\n",
    "    (19, 11, \"Smartwool Men's Socks\", 20.00, 10),\n",
    "    (20, 11, \"Darn Tough Women's Socks\", 25.00, 10),\n",
    "    (21, 12, \"Garmin Forerunner 945\", 600.00, 11),\n",
    "    (22, 12, \"Suunto 9 Baro\", 500.00, 11),\n",
    "    (23, 13, \"GoPro Hero 8\", 400.00, 12),\n",
    "    (24, 13, \"DJI Osmo Action\", 350.00, 12),\n",
    "    (25, 14, \"Razor A Kick Scooter\", 30.00, 13),\n",
    "    (26, 14, \"Penny Australia Classic Complete Skateboard\", 100.00, 13),\n",
    "    (27, 15, \"Callaway Golf\", 200.00, 14),\n",
    "    (28, 15, \"Titleist Pro V1\", 60.00, 14),\n",
    "    (29, 16, \"Yeti Tundra 65 Cooler\", 350.00, 15),\n",
    "    (30, 16, \"RTIC 45 Cooler\", 200.00, 15)\n",
    "])"
   ]
  },
  {
   "cell_type": "code",
   "execution_count": 6,
   "metadata": {},
   "outputs": [],
   "source": [
    "from pyspark.sql import Row\n",
    "df = rdd.map(lambda x: Row(product_id=x[0], category_id=x[1], product_name=x[2], product_price=x[3], quantity=x[4]))"
   ]
  },
  {
   "cell_type": "code",
   "execution_count": 7,
   "metadata": {},
   "outputs": [],
   "source": [
    "from pyspark.sql import types\n",
    "schema1 = types.StructType([\n",
    "    types.StructField(\"product_id\", types.IntegerType(), True),\n",
    "    types.StructField(\"category_id\", types.IntegerType(), True),\n",
    "    types.StructField(\"product_name\", types.StringType(), True),\n",
    "    types.StructField(\"product_price\", types.FloatType(), True),\n",
    "    types.StructField(\"quantity\", types.IntegerType(), True)\n",
    "])"
   ]
  },
  {
   "cell_type": "code",
   "execution_count": 8,
   "metadata": {},
   "outputs": [],
   "source": [
    "df = spark.createDataFrame(df, schema=schema1)"
   ]
  },
  {
   "cell_type": "code",
   "execution_count": 9,
   "metadata": {},
   "outputs": [
    {
     "name": "stdout",
     "output_type": "stream",
     "text": [
      "+----------+-----------+--------------------+-------------+--------+\n",
      "|product_id|category_id|        product_name|product_price|quantity|\n",
      "+----------+-----------+--------------------+-------------+--------+\n",
      "|         1|          2|     Quest Q64 10 FT|        59.98|       1|\n",
      "|         2|          2|    Under Armour Men|        79.98|       1|\n",
      "|         3|          3|Nike Men's Runnin...|        120.0|       2|\n",
      "|         4|          3|Adidas Women's Ru...|        110.0|       2|\n",
      "|         5|          4|  Puma Men's T-Shirt|         25.0|       3|\n",
      "|         6|          4|Reebok Women's T-...|         22.0|       3|\n",
      "|         7|          5|  Asics Men's Shorts|         30.0|       4|\n",
      "|         8|          5|New Balance Women...|         28.0|       4|\n",
      "|         9|          6|Columbia Men's Ja...|        100.0|       5|\n",
      "|        10|          6|North Face Women'...|        150.0|       5|\n",
      "+----------+-----------+--------------------+-------------+--------+\n",
      "only showing top 10 rows\n",
      "\n"
     ]
    }
   ],
   "source": [
    "df.show(10)"
   ]
  },
  {
   "cell_type": "code",
   "execution_count": 11,
   "metadata": {},
   "outputs": [],
   "source": [
    "df.createOrReplaceTempView(\"orders\")"
   ]
  },
  {
   "cell_type": "code",
   "execution_count": 16,
   "metadata": {},
   "outputs": [
    {
     "name": "stdout",
     "output_type": "stream",
     "text": [
      "+----------+-----------+--------------------+-------------+--------+-----------+\n",
      "|product_id|category_id|        product_name|product_price|quantity|total_price|\n",
      "+----------+-----------+--------------------+-------------+--------+-----------+\n",
      "|         1|          2|     Quest Q64 10 FT|        59.98|       1|      59.98|\n",
      "|         2|          2|    Under Armour Men|        79.98|       1|      79.98|\n",
      "|         3|          3|Nike Men's Runnin...|        120.0|       2|      240.0|\n",
      "|         4|          3|Adidas Women's Ru...|        110.0|       2|      220.0|\n",
      "|         5|          4|  Puma Men's T-Shirt|         25.0|       3|       75.0|\n",
      "|         6|          4|Reebok Women's T-...|         22.0|       3|       66.0|\n",
      "|         7|          5|  Asics Men's Shorts|         30.0|       4|      120.0|\n",
      "|         8|          5|New Balance Women...|         28.0|       4|      112.0|\n",
      "|         9|          6|Columbia Men's Ja...|        100.0|       5|      500.0|\n",
      "|        10|          6|North Face Women'...|        150.0|       5|      750.0|\n",
      "+----------+-----------+--------------------+-------------+--------+-----------+\n",
      "only showing top 10 rows\n",
      "\n"
     ]
    }
   ],
   "source": [
    "#1: Create a new column total_price which is the product of product_price and quantity\n",
    "df1 = df.withColumn(\"total_price\", df.product_price * df.quantity)\n",
    "df1.show(10)"
   ]
  },
  {
   "cell_type": "code",
   "execution_count": 20,
   "metadata": {},
   "outputs": [
    {
     "name": "stdout",
     "output_type": "stream",
     "text": [
      "+----------+-----------+--------------------+-------------+--------+-----------+\n",
      "|product_id|category_id|        product_name|product_price|quantity|total_price|\n",
      "+----------+-----------+--------------------+-------------+--------+-----------+\n",
      "|         1|          2|     Quest Q64 10 FT|        59.98|       1|      59.98|\n",
      "|         2|          2|    Under Armour Men|        79.98|       1|      79.98|\n",
      "|         3|          3|Nike Men's Runnin...|        120.0|       2|      240.0|\n",
      "|         4|          3|Adidas Women's Ru...|        110.0|       2|      220.0|\n",
      "|         5|          4|  Puma Men's T-Shirt|         25.0|       3|       75.0|\n",
      "|         6|          4|Reebok Women's T-...|         22.0|       3|       66.0|\n",
      "|         7|          5|  Asics Men's Shorts|         30.0|       4|      120.0|\n",
      "|         8|          5|New Balance Women...|         28.0|       4|      112.0|\n",
      "|         9|          6|Columbia Men's Ja...|        100.0|       5|      500.0|\n",
      "|        10|          6|North Face Women'...|        150.0|       5|      750.0|\n",
      "+----------+-----------+--------------------+-------------+--------+-----------+\n",
      "only showing top 10 rows\n",
      "\n"
     ]
    }
   ],
   "source": [
    "#1: second way\n",
    "df11 = spark.sql(\"\"\"\n",
    "SELECT *, product_price * quantity AS total_price\n",
    "FROM orders\n",
    "                 \"\"\")\n",
    "df11.show(10)"
   ]
  },
  {
   "cell_type": "code",
   "execution_count": 27,
   "metadata": {},
   "outputs": [],
   "source": [
    "#1: third way\n",
    "from pyspark.sql.functions import *\n",
    "df111 = df.withColumn(\"total_price\",col(\"product_price\") * col(\"quantity\"))"
   ]
  },
  {
   "cell_type": "code",
   "execution_count": 29,
   "metadata": {},
   "outputs": [
    {
     "name": "stdout",
     "output_type": "stream",
     "text": [
      "+----------+-----------+----------------+-------------+--------+-----------+\n",
      "|product_id|category_id|    product_name|product_price|quantity|total_price|\n",
      "+----------+-----------+----------------+-------------+--------+-----------+\n",
      "|         1|          2| Quest Q64 10 FT|        59.98|       1|      59.98|\n",
      "|         2|          2|Under Armour Men|        79.98|       1|      79.98|\n",
      "+----------+-----------+----------------+-------------+--------+-----------+\n",
      "only showing top 2 rows\n",
      "\n"
     ]
    }
   ],
   "source": [
    "#1: fourth way\n",
    "df.select(\"*\", expr(\"product_price * quantity AS total_price\")).show(2)"
   ]
  },
  {
   "cell_type": "code",
   "execution_count": 30,
   "metadata": {},
   "outputs": [
    {
     "name": "stdout",
     "output_type": "stream",
     "text": [
      "+----------+-----------+--------------------+-------------+--------+-----------+\n",
      "|product_id|category_id|        product_name|product_price|quantity|total_price|\n",
      "+----------+-----------+--------------------+-------------+--------+-----------+\n",
      "|         1|          2|     Quest Q64 10 FT|        59.98|       1|      59.98|\n",
      "|         2|          2|    Under Armour Men|        79.98|       1|      79.98|\n",
      "|         3|          3|Nike Men's Runnin...|        120.0|       2|      240.0|\n",
      "|         4|          3|Adidas Women's Ru...|        110.0|       2|      220.0|\n",
      "|         5|          4|  Puma Men's T-Shirt|         25.0|       3|       75.0|\n",
      "+----------+-----------+--------------------+-------------+--------+-----------+\n",
      "only showing top 5 rows\n",
      "\n"
     ]
    }
   ],
   "source": [
    "df.selectExpr(\"*\", \"product_price * quantity AS total_price\").show(5)"
   ]
  },
  {
   "cell_type": "code",
   "execution_count": 18,
   "metadata": {},
   "outputs": [
    {
     "name": "stdout",
     "output_type": "stream",
     "text": [
      "+----------+-----------+--------------------+------------------+--------+\n",
      "|product_id|category_id|        product_name| new_product_price|quantity|\n",
      "+----------+-----------+--------------------+------------------+--------+\n",
      "|         1|          2|     Quest Q64 10 FT| 59.97999954223633|       1|\n",
      "|         2|          2|    Under Armour Men|119.97000503540039|       1|\n",
      "|         3|          3|Nike Men's Runnin...|             144.0|       2|\n",
      "|         4|          3|Adidas Women's Ru...|             110.0|       2|\n",
      "|         5|          4|  Puma Men's T-Shirt|              25.0|       3|\n",
      "|         6|          4|Reebok Women's T-...|              22.0|       3|\n",
      "|         7|          5|  Asics Men's Shorts|              30.0|       4|\n",
      "|         8|          5|New Balance Women...|              28.0|       4|\n",
      "|         9|          6|Columbia Men's Ja...|             100.0|       5|\n",
      "|        10|          6|North Face Women'...|             150.0|       5|\n",
      "+----------+-----------+--------------------+------------------+--------+\n",
      "only showing top 10 rows\n",
      "\n"
     ]
    }
   ],
   "source": [
    "#2:\n",
    "df2 = spark.sql(\"\"\"\n",
    "    SELECT product_id, category_id, product_name,\n",
    "        CASE\n",
    "            WHEN product_name LIKE '%Nike%' THEN product_price * 1.2\n",
    "            WHEN product_name LIKE '%Armour%' THEN product_price * 1.5\n",
    "            ELSE product_price\n",
    "        END AS new_product_price,\n",
    "        quantity\n",
    "    FROM orders\n",
    "    \"\"\")\n",
    "df2.show(10)"
   ]
  },
  {
   "cell_type": "code",
   "execution_count": null,
   "metadata": {},
   "outputs": [
    {
     "name": "stdout",
     "output_type": "stream",
     "text": [
      "+----------+-----------+--------------------+------------------+--------+\n",
      "|product_id|category_id|        product_name| new_product_price|quantity|\n",
      "+----------+-----------+--------------------+------------------+--------+\n",
      "|         1|          2|     Quest Q64 10 FT| 59.97999954223633|       1|\n",
      "|         2|          2|    Under Armour Men|119.97000503540039|       1|\n",
      "|         3|          3|Nike Men's Runnin...|             144.0|       2|\n",
      "|         4|          3|Adidas Women's Ru...|             110.0|       2|\n",
      "|         5|          4|  Puma Men's T-Shirt|              25.0|       3|\n",
      "|         6|          4|Reebok Women's T-...|              22.0|       3|\n",
      "|         7|          5|  Asics Men's Shorts|              30.0|       4|\n",
      "|         8|          5|New Balance Women...|              28.0|       4|\n",
      "|         9|          6|Columbia Men's Ja...|             100.0|       5|\n",
      "|        10|          6|North Face Women'...|             150.0|       5|\n",
      "+----------+-----------+--------------------+------------------+--------+\n",
      "only showing top 10 rows\n",
      "\n"
     ]
    }
   ],
   "source": [
    "#2: second way\n",
    "from pyspark.sql import functions as F\n",
    "df22 = df.withColumn(\"new_product_price\", \n",
    "                     F.when(df.product_name.like(\"%Nike%\"), df.product_price * 1.2)\n",
    "                      .when(df.product_name.like(\"%Armour%\"), df.product_price * 1.5)\n",
    "                      .otherwise(df.product_price))\n",
    "# Select only the columns we need\n",
    "df222 = df22.select(\"product_id\", \"category_id\", \"product_name\", \"new_product_price\", \"quantity\")\n",
    "df222.show(10)\n"
   ]
  },
  {
   "cell_type": "code",
   "execution_count": 32,
   "metadata": {},
   "outputs": [
    {
     "name": "stdout",
     "output_type": "stream",
     "text": [
      "+----------+-----------+--------------------+------------------+--------+\n",
      "|product_id|category_id|        product_name|     product_price|quantity|\n",
      "+----------+-----------+--------------------+------------------+--------+\n",
      "|         1|          2|     Quest Q64 10 FT| 59.97999954223633|       1|\n",
      "|         2|          2|    Under Armour Men|119.97000503540039|       1|\n",
      "|         3|          3|Nike Men's Runnin...|             144.0|       2|\n",
      "|         4|          3|Adidas Women's Ru...|             110.0|       2|\n",
      "|         5|          4|  Puma Men's T-Shirt|              25.0|       3|\n",
      "|         6|          4|Reebok Women's T-...|              22.0|       3|\n",
      "|         7|          5|  Asics Men's Shorts|              30.0|       4|\n",
      "|         8|          5|New Balance Women...|              28.0|       4|\n",
      "|         9|          6|Columbia Men's Ja...|             100.0|       5|\n",
      "|        10|          6|North Face Women'...|             150.0|       5|\n",
      "+----------+-----------+--------------------+------------------+--------+\n",
      "only showing top 10 rows\n",
      "\n"
     ]
    }
   ],
   "source": [
    "#2: third way\n",
    "df.withColumn(\"product_price\",\n",
    "        when(col(\"product_name\").contains(\"Nike\"), col(\"product_price\") * 1.2)\n",
    "        .when(col(\"product_name\").contains(\"Armour\"), col(\"product_price\") * 1.5)\n",
    "        .otherwise(col(\"product_price\"))).show(10)"
   ]
  },
  {
   "cell_type": "code",
   "execution_count": 33,
   "metadata": {},
   "outputs": [
    {
     "name": "stdout",
     "output_type": "stream",
     "text": [
      "+----------+-----------+--------------------+--------+------------------+\n",
      "|product_id|category_id|        product_name|quantity|     product_price|\n",
      "+----------+-----------+--------------------+--------+------------------+\n",
      "|         1|          2|     Quest Q64 10 FT|       1| 59.97999954223633|\n",
      "|         2|          2|    Under Armour Men|       1|119.97000503540039|\n",
      "|         3|          3|Nike Men's Runnin...|       2|             144.0|\n",
      "|         4|          3|Adidas Women's Ru...|       2|             110.0|\n",
      "|         5|          4|  Puma Men's T-Shirt|       3|              25.0|\n",
      "|         6|          4|Reebok Women's T-...|       3|              22.0|\n",
      "|         7|          5|  Asics Men's Shorts|       4|              30.0|\n",
      "|         8|          5|New Balance Women...|       4|              28.0|\n",
      "|         9|          6|Columbia Men's Ja...|       5|             100.0|\n",
      "|        10|          6|North Face Women'...|       5|             150.0|\n",
      "+----------+-----------+--------------------+--------+------------------+\n",
      "only showing top 10 rows\n",
      "\n"
     ]
    }
   ],
   "source": [
    "#2: fourth way\n",
    "df.selectExpr(\"*\",\n",
    "              \"CASE WHEN product_name LIKE '%Nike%' THEN product_price * 1.2 \\\n",
    "               WHEN product_name LIKE '%Armour%' THEN product_price * 1.5 \\\n",
    "               ELSE product_price END AS new_product_price\").drop(\"product_price\").withColumnRenamed(\"new_product_price\",\"product_price\").show(10)"
   ]
  },
  {
   "cell_type": "code",
   "execution_count": 25,
   "metadata": {},
   "outputs": [
    {
     "name": "stdout",
     "output_type": "stream",
     "text": [
      "+----------+-----------+--------------------+--------+------------------+\n",
      "|product_id|category_id|        product_name|quantity| new_product_price|\n",
      "+----------+-----------+--------------------+--------+------------------+\n",
      "|         1|          2|     Quest Q64 10 FT|       1| 59.97999954223633|\n",
      "|         2|          2|    Under Armour Men|       1|119.97000503540039|\n",
      "|         3|          3|Nike Men's Runnin...|       2|             144.0|\n",
      "|         4|          3|Adidas Women's Ru...|       2|             110.0|\n",
      "|         5|          4|  Puma Men's T-Shirt|       3|              25.0|\n",
      "|         6|          4|Reebok Women's T-...|       3|              22.0|\n",
      "|         7|          5|  Asics Men's Shorts|       4|              30.0|\n",
      "|         8|          5|New Balance Women...|       4|              28.0|\n",
      "|         9|          6|Columbia Men's Ja...|       5|             100.0|\n",
      "|        10|          6|North Face Women'...|       5|             150.0|\n",
      "+----------+-----------+--------------------+--------+------------------+\n",
      "only showing top 10 rows\n",
      "\n"
     ]
    }
   ],
   "source": [
    "#OR\n",
    "df2222= df22.drop(\"product_price\")\n",
    "df2222.show(10)"
   ]
  },
  {
   "cell_type": "code",
   "execution_count": null,
   "metadata": {},
   "outputs": [],
   "source": []
  }
 ],
 "metadata": {
  "kernelspec": {
   "display_name": "myenv",
   "language": "python",
   "name": "python3"
  },
  "language_info": {
   "codemirror_mode": {
    "name": "ipython",
    "version": 3
   },
   "file_extension": ".py",
   "mimetype": "text/x-python",
   "name": "python",
   "nbconvert_exporter": "python",
   "pygments_lexer": "ipython3",
   "version": "3.10.0"
  }
 },
 "nbformat": 4,
 "nbformat_minor": 2
}
