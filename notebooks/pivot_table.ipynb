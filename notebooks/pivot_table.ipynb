{
 "cells": [
  {
   "cell_type": "markdown",
   "metadata": {},
   "source": [
    "Pivot exercise"
   ]
  },
  {
   "cell_type": "code",
   "execution_count": 2,
   "metadata": {},
   "outputs": [],
   "source": [
    "import pyspark\n",
    "from pyspark.sql import SparkSession"
   ]
  },
  {
   "cell_type": "code",
   "execution_count": 3,
   "metadata": {},
   "outputs": [],
   "source": [
    "spark = SparkSession.builder \\\n",
    "    .appName(\"Dateformat and Pivot\") \\\n",
    "    .master(\"local[*]\") \\\n",
    "    .getOrCreate()"
   ]
  },
  {
   "cell_type": "code",
   "execution_count": 4,
   "metadata": {},
   "outputs": [],
   "source": [
    "rdd = spark.sparkContext.parallelize([\n",
    "    (\"FATAL\", \"January\", 94),\n",
    "    (\"WARN\", \"January\", 8217),\n",
    "    (\"ERROR\", \"January\", 4054),\n",
    "    (\"DEBUG\", \"January\", 40856),\n",
    "    (\"INFO\", \"January\", 18653),\n",
    "    (\"ERROR\", \"February\", 4013),\n",
    "    (\"WARN\", \"February\", 7543),\n",
    "    (\"DEBUG\", \"February\", 36214),\n",
    "    (\"INFO\", \"February\", 17563),\n",
    "    (\"FATAL\", \"February\", 120),\n",
    "    (\"ERROR\", \"March\", 4320),\n",
    "    (\"WARN\", \"March\", 7890),\n",
    "    (\"DEBUG\", \"March\", 39421),\n",
    "    (\"INFO\", \"March\", 18347),\n",
    "    (\"FATAL\", \"March\", 98),\n",
    "    (\"ERROR\", \"April\", 3987),\n",
    "    (\"WARN\", \"April\", 7201),\n",
    "    (\"DEBUG\", \"April\", 38765),\n",
    "    (\"INFO\", \"April\", 17258),\n",
    "    (\"FATAL\", \"April\", 112),\n",
    "    (\"ERROR\", \"May\", 4102),\n",
    "    (\"WARN\", \"May\", 8005),\n",
    "    (\"DEBUG\", \"May\", 40562),\n",
    "    (\"INFO\", \"May\", 17893),\n",
    "    (\"FATAL\", \"May\", 105),\n",
    "    (\"ERROR\", \"June\", 3821),\n",
    "    (\"WARN\", \"June\", 7124),\n",
    "    (\"DEBUG\", \"June\", 39240),\n",
    "    (\"INFO\", \"June\", 16942),\n",
    "    (\"FATAL\", \"June\", 99),\n",
    "    (\"ERROR\", \"July\", 4501),\n",
    "    (\"WARN\", \"July\", 8450),\n",
    "    (\"DEBUG\", \"July\", 41872),\n",
    "    (\"INFO\", \"July\", 19027),\n",
    "    (\"FATAL\", \"July\", 108),\n",
    "    (\"ERROR\", \"August\", 4203),\n",
    "    (\"WARN\", \"August\", 7893),\n",
    "    (\"DEBUG\", \"August\", 39980),\n",
    "    (\"INFO\", \"August\", 18594),\n",
    "    (\"FATAL\", \"August\", 115),\n",
    "    (\"ERROR\", \"September\", 3702),\n",
    "    (\"WARN\", \"September\", 6992),\n",
    "    (\"DEBUG\", \"September\", 38572),\n",
    "    (\"INFO\", \"September\", 16780),\n",
    "    (\"FATAL\", \"September\", 102),\n",
    "    (\"ERROR\", \"October\", 4056),\n",
    "    (\"WARN\", \"October\", 8024),\n",
    "    (\"DEBUG\", \"October\", 40651),\n",
    "    (\"INFO\", \"October\", 17678),\n",
    "    (\"FATAL\", \"October\", 109),\n",
    "    (\"ERROR\", \"November\", 3805),\n",
    "    (\"WARN\", \"November\", 7121),\n",
    "    (\"DEBUG\", \"November\", 39102),\n",
    "    (\"INFO\", \"November\", 16832),\n",
    "    (\"FATAL\", \"November\", 104),\n",
    "    (\"ERROR\", \"December\", 4230),\n",
    "    (\"WARN\", \"December\", 7850),\n",
    "    (\"DEBUG\", \"December\", 40431),\n",
    "    (\"INFO\", \"December\", 18001),\n",
    "    (\"FATAL\", \"December\", 111)\n",
    "])"
   ]
  },
  {
   "cell_type": "code",
   "execution_count": 5,
   "metadata": {},
   "outputs": [],
   "source": [
    "# create a Schema\n",
    "from pyspark.sql.types import *\n",
    "from pyspark.sql.functions import *\n",
    "\n",
    "schema = StructType([\n",
    "    StructField(\"log_level\",StringType(),True),\n",
    "    StructField(\"month\",StringType(),True),\n",
    "    StructField(\"total_occurences\",IntegerType(),True)\n",
    "])"
   ]
  },
  {
   "cell_type": "code",
   "execution_count": 6,
   "metadata": {},
   "outputs": [],
   "source": [
    "df = spark.createDataFrame(rdd, schema)"
   ]
  },
  {
   "cell_type": "code",
   "execution_count": 8,
   "metadata": {},
   "outputs": [
    {
     "name": "stdout",
     "output_type": "stream",
     "text": [
      "+---------+-------+----------------+\n",
      "|log_level|  month|total_occurences|\n",
      "+---------+-------+----------------+\n",
      "|    FATAL|January|              94|\n",
      "|     WARN|January|            8217|\n",
      "|    ERROR|January|            4054|\n",
      "|    DEBUG|January|           40856|\n",
      "|     INFO|January|           18653|\n",
      "+---------+-------+----------------+\n",
      "only showing top 5 rows\n",
      "\n"
     ]
    }
   ],
   "source": [
    "df.show(5)"
   ]
  },
  {
   "cell_type": "code",
   "execution_count": 10,
   "metadata": {},
   "outputs": [
    {
     "name": "stdout",
     "output_type": "stream",
     "text": [
      "+---------+-----+\n",
      "|log_level|count|\n",
      "+---------+-----+\n",
      "|     INFO|   12|\n",
      "|    ERROR|   12|\n",
      "|     WARN|   12|\n",
      "|    FATAL|   12|\n",
      "|    DEBUG|   12|\n",
      "+---------+-----+\n",
      "\n"
     ]
    }
   ],
   "source": [
    "df.groupBy(\"log_level\").count().show()"
   ]
  },
  {
   "cell_type": "code",
   "execution_count": null,
   "metadata": {},
   "outputs": [
    {
     "name": "stdout",
     "output_type": "stream",
     "text": [
      "+---------+-----+------+--------+--------+-------+-----+-----+-----+-----+--------+-------+---------+\n",
      "|log_level|April|August|December|February|January| July| June|March|  May|November|October|September|\n",
      "+---------+-----+------+--------+--------+-------+-----+-----+-----+-----+--------+-------+---------+\n",
      "|     INFO|17258| 18594|   18001|   17563|  18653|19027|16942|18347|17893|   16832|  17678|    16780|\n",
      "|    ERROR| 3987|  4203|    4230|    4013|   4054| 4501| 3821| 4320| 4102|    3805|   4056|     3702|\n",
      "|     WARN| 7201|  7893|    7850|    7543|   8217| 8450| 7124| 7890| 8005|    7121|   8024|     6992|\n",
      "|    FATAL|  112|   115|     111|     120|     94|  108|   99|   98|  105|     104|    109|      102|\n",
      "|    DEBUG|38765| 39980|   40431|   36214|  40856|41872|39240|39421|40562|   39102|  40651|    38572|\n",
      "+---------+-----+------+--------+--------+-------+-----+-----+-----+-----+--------+-------+---------+\n",
      "\n"
     ]
    }
   ],
   "source": [
    "# Pivot from Jan -> Dec\n",
    "df_pivot = df.groupBy(\"log_level\").pivot(\"month\").sum(\"total_occurences\")\n",
    "df_pivot.show()"
   ]
  },
  {
   "cell_type": "code",
   "execution_count": null,
   "metadata": {},
   "outputs": [
    {
     "name": "stdout",
     "output_type": "stream",
     "text": [
      "+---------+-----------+-------------+------------+--------------+--------------+----------------+--------------+----------------+-------------+---------------+----------+------------+----------+------------+-----------+-------------+---------+-----------+--------------+----------------+-------------+---------------+---------------+-----------------+\n",
      "|log_level|April_total|April_average|August_total|August_average|December_total|December_average|February_total|February_average|January_total|January_average|July_total|July_average|June_total|June_average|March_total|March_average|May_total|May_average|November_total|November_average|October_total|October_average|September_total|September_average|\n",
      "+---------+-----------+-------------+------------+--------------+--------------+----------------+--------------+----------------+-------------+---------------+----------+------------+----------+------------+-----------+-------------+---------+-----------+--------------+----------------+-------------+---------------+---------------+-----------------+\n",
      "|     INFO|      17258|      17258.0|       18594|       18594.0|         18001|         18001.0|         17563|         17563.0|        18653|        18653.0|     19027|     19027.0|     16942|     16942.0|      18347|      18347.0|    17893|    17893.0|         16832|         16832.0|        17678|        17678.0|          16780|          16780.0|\n",
      "|    ERROR|       3987|       3987.0|        4203|        4203.0|          4230|          4230.0|          4013|          4013.0|         4054|         4054.0|      4501|      4501.0|      3821|      3821.0|       4320|       4320.0|     4102|     4102.0|          3805|          3805.0|         4056|         4056.0|           3702|           3702.0|\n",
      "|     WARN|       7201|       7201.0|        7893|        7893.0|          7850|          7850.0|          7543|          7543.0|         8217|         8217.0|      8450|      8450.0|      7124|      7124.0|       7890|       7890.0|     8005|     8005.0|          7121|          7121.0|         8024|         8024.0|           6992|           6992.0|\n",
      "|    FATAL|        112|        112.0|         115|         115.0|           111|           111.0|           120|           120.0|           94|           94.0|       108|       108.0|        99|        99.0|         98|         98.0|      105|      105.0|           104|           104.0|          109|          109.0|            102|            102.0|\n",
      "|    DEBUG|      38765|      38765.0|       39980|       39980.0|         40431|         40431.0|         36214|         36214.0|        40856|        40856.0|     41872|     41872.0|     39240|     39240.0|      39421|      39421.0|    40562|    40562.0|         39102|         39102.0|        40651|        40651.0|          38572|          38572.0|\n",
      "+---------+-----------+-------------+------------+--------------+--------------+----------------+--------------+----------------+-------------+---------------+----------+------------+----------+------------+-----------+-------------+---------+-----------+--------------+----------------+-------------+---------------+---------------+-----------------+\n",
      "\n"
     ]
    }
   ],
   "source": [
    "# Pivot with sum() and avg() function\n",
    "df_pivot1= df.groupBy(\"log_level\").pivot(\"month\").agg(\n",
    "    sum(\"total_occurences\").alias(\"total\"),\n",
    "    avg(\"total_occurences\").alias(\"average\")\n",
    ")\n",
    "df_pivot1.show()"
   ]
  },
  {
   "cell_type": "code",
   "execution_count": null,
   "metadata": {},
   "outputs": [],
   "source": [
    "spark.stop()"
   ]
  },
  {
   "cell_type": "code",
   "execution_count": null,
   "metadata": {},
   "outputs": [],
   "source": []
  },
  {
   "cell_type": "code",
   "execution_count": null,
   "metadata": {},
   "outputs": [],
   "source": []
  },
  {
   "cell_type": "code",
   "execution_count": null,
   "metadata": {},
   "outputs": [],
   "source": []
  },
  {
   "cell_type": "code",
   "execution_count": null,
   "metadata": {},
   "outputs": [],
   "source": []
  }
 ],
 "metadata": {
  "kernelspec": {
   "display_name": "myenv",
   "language": "python",
   "name": "python3"
  },
  "language_info": {
   "codemirror_mode": {
    "name": "ipython",
    "version": 3
   },
   "file_extension": ".py",
   "mimetype": "text/x-python",
   "name": "python",
   "nbconvert_exporter": "python",
   "pygments_lexer": "ipython3",
   "version": "3.10.0"
  }
 },
 "nbformat": 4,
 "nbformat_minor": 2
}
