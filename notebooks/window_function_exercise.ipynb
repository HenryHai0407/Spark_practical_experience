{
 "cells": [
  {
   "cell_type": "markdown",
   "metadata": {},
   "source": [
    "Window Functions"
   ]
  },
  {
   "cell_type": "code",
   "execution_count": 1,
   "metadata": {},
   "outputs": [],
   "source": [
    "import pyspark\n",
    "from pyspark.sql import  SparkSession"
   ]
  },
  {
   "cell_type": "code",
   "execution_count": 2,
   "metadata": {},
   "outputs": [],
   "source": [
    "spark = SparkSession.builder \\\n",
    "    .appName(\"Window Functions exercise 4\") \\\n",
    "    .master(\"local[*]\") \\\n",
    "    .getOrCreate()\n"
   ]
  },
  {
   "cell_type": "code",
   "execution_count": 22,
   "metadata": {},
   "outputs": [],
   "source": [
    "# Create a schema\n",
    "from pyspark.sql.types import *\n",
    "from pyspark.sql.functions import *\n",
    "\n",
    "schema = StructType([\n",
    "    StructField(\"country\", StringType(), True),\n",
    "    StructField(\"weeknum\", IntegerType(), True),\n",
    "    StructField(\"numinvoices\", IntegerType(), True),\n",
    "    StructField(\"totalquantity\", IntegerType(), True),\n",
    "    StructField(\"invoicevalue\", FloatType(), True)\n",
    "])"
   ]
  },
  {
   "cell_type": "code",
   "execution_count": 24,
   "metadata": {},
   "outputs": [],
   "source": [
    "# Create a dataset sample for exercise\n",
    "rdd = spark.sparkContext.parallelize([\n",
    "    (\"Spain\", 49, 1, 67, 174.72),\n",
    "    (\"Germany\", 48, 11, 1795, 1600.0),\n",
    "    (\"Germany\", 48, 15, 1985, 2100.0),\n",
    "    (\"Lithuania\", 48, 10, 6000, 1254.2),\n",
    "    (\"Germany\", 49, 12, 1852, 1800.0),\n",
    "    (\"Germany\", 49, 15, 2114, 2000.0),\n",
    "    (\"France\", 50, 8, 1450, 1200.5),\n",
    "    (\"Italy\", 48, 6, 980, 850.0),\n",
    "    (\"Spain\", 47, 7, 1250, 1350.8),\n",
    "    (\"Finland\", 50, 4, 560, 700.3),\n",
    "    (\"Finland\", 50, 4, 700, 850.1),\n",
    "    (\"Lithuania\", 49, 5, 780, 650.9),\n",
    "    (\"Germany\", 47, 15, 2200, 2050.0),\n",
    "    (\"Spain\", 50, 3, 430, 560.2),\n",
    "    (\"France\", 49, 9, 1600, 1350.0),\n",
    "    (\"France\", 49, 11, 1800, 1500.0),\n",
    "    (\"Italy\", 47, 10, 1420, 1325.5),\n",
    "    (\"Sweden\", 48, 5, 600, 755.6),\n",
    "    (\"Norway\", 49, 6, 720, 850.2),\n",
    "    (\"Denmark\", 50, 4, 540, 670.1),\n",
    "    (\"Denmark\", 50, 6, 700, 820.6),\n",
    "    (\"Finland\", 47, 7, 1130, 1230.8),\n",
    "    (\"Poland\", 48, 8, 1245, 1360.5),\n",
    "    (\"Czechia\", 49, 3, 400, 500.0),\n",
    "    (\"Slovakia\", 50, 2, 250, 320.0),\n",
    "    (\"Hungary\", 47, 5, 600, 740.2),\n",
    "    (\"Austria\", 48, 6, 780, 870.9),\n",
    "    (\"Belgium\", 49, 7, 900, 950.0),\n",
    "    (\"Netherlands\", 50, 4, 560, 670.8),\n",
    "    (\"Portugal\", 47, 3, 420, 510.2),\n",
    "    (\"Switzerland\", 48, 8, 1240, 1355.0),\n",
    "    (\"Ireland\", 49, 6, 720, 810.3),\n",
    "    (\"Spain\", 46, 4, 520, 620.1),\n",
    "    (\"France\", 45, 9, 1500, 1400.5),\n",
    "    (\"Germany\", 46, 12, 1900, 1750.0),\n",
    "    (\"Italy\", 45, 10, 1400, 1290.5),\n",
    "    (\"Sweden\", 46, 5, 620, 780.6),\n",
    "    (\"Norway\", 47, 6, 750, 890.2),\n",
    "    (\"Denmark\", 48, 4, 510, 645.0),\n",
    "    (\"Finland\", 49, 7, 1120, 1220.8),\n",
    "    (\"Poland\", 50, 8, 1275, 1380.5),\n",
    "    (\"Czechia\", 47, 3, 410, 515.0),\n",
    "    (\"Slovakia\", 46, 2, 260, 325.0),\n",
    "    (\"Hungary\", 45, 5, 620, 750.2),\n",
    "    (\"Austria\", 44, 6, 790, 880.9),\n",
    "    (\"Belgium\", 43, 7, 920, 970.0),\n",
    "    (\"Netherlands\", 42, 4, 570, 680.8),\n",
    "    (\"Portugal\", 41, 3, 430, 520.2),\n",
    "    (\"Switzerland\", 40, 8, 1260, 1375.0)\n",
    "])"
   ]
  },
  {
   "cell_type": "code",
   "execution_count": 26,
   "metadata": {},
   "outputs": [],
   "source": [
    "# Convert RDD to DataFrame\n",
    "df = spark.createDataFrame(rdd, schema)"
   ]
  },
  {
   "cell_type": "code",
   "execution_count": 27,
   "metadata": {},
   "outputs": [
    {
     "name": "stdout",
     "output_type": "stream",
     "text": [
      "root\n",
      " |-- country: string (nullable = true)\n",
      " |-- weeknum: integer (nullable = true)\n",
      " |-- numinvoices: integer (nullable = true)\n",
      " |-- totalquantity: integer (nullable = true)\n",
      " |-- invoicevalue: float (nullable = true)\n",
      "\n"
     ]
    }
   ],
   "source": [
    "df.printSchema()"
   ]
  },
  {
   "cell_type": "code",
   "execution_count": 28,
   "metadata": {},
   "outputs": [
    {
     "name": "stdout",
     "output_type": "stream",
     "text": [
      "+---------+-------+-----------+-------------+------------+\n",
      "|  country|weeknum|numinvoices|totalquantity|invoicevalue|\n",
      "+---------+-------+-----------+-------------+------------+\n",
      "|    Spain|     49|          1|           67|      174.72|\n",
      "|  Germany|     48|         11|         1795|      1600.0|\n",
      "|  Germany|     48|         15|         1985|      2100.0|\n",
      "|Lithuania|     48|         10|         6000|      1254.2|\n",
      "|  Germany|     49|         12|         1852|      1800.0|\n",
      "+---------+-------+-----------+-------------+------------+\n",
      "only showing top 5 rows\n",
      "\n"
     ]
    }
   ],
   "source": [
    "df.show(5)"
   ]
  },
  {
   "cell_type": "code",
   "execution_count": 29,
   "metadata": {},
   "outputs": [
    {
     "name": "stdout",
     "output_type": "stream",
     "text": [
      "+---------+-----+\n",
      "|  country|count|\n",
      "+---------+-----+\n",
      "|  Germany|    6|\n",
      "|Lithuania|    2|\n",
      "|    Spain|    4|\n",
      "|   France|    4|\n",
      "|  Finland|    4|\n",
      "+---------+-----+\n",
      "only showing top 5 rows\n",
      "\n"
     ]
    }
   ],
   "source": [
    "df1 = df.groupBy(\"country\").count()\n",
    "df1.show(5)"
   ]
  },
  {
   "cell_type": "code",
   "execution_count": 30,
   "metadata": {},
   "outputs": [
    {
     "name": "stdout",
     "output_type": "stream",
     "text": [
      "+-----------+-----+\n",
      "|    country|count|\n",
      "+-----------+-----+\n",
      "|    Germany|    6|\n",
      "|      Spain|    4|\n",
      "|     France|    4|\n",
      "|    Finland|    4|\n",
      "|      Italy|    3|\n",
      "|    Denmark|    3|\n",
      "|  Lithuania|    2|\n",
      "|     Sweden|    2|\n",
      "|     Norway|    2|\n",
      "|    Czechia|    2|\n",
      "|     Poland|    2|\n",
      "|   Slovakia|    2|\n",
      "|    Belgium|    2|\n",
      "|   Portugal|    2|\n",
      "|    Austria|    2|\n",
      "|    Hungary|    2|\n",
      "|Netherlands|    2|\n",
      "|Switzerland|    2|\n",
      "|    Ireland|    1|\n",
      "+-----------+-----+\n",
      "\n"
     ]
    }
   ],
   "source": [
    "df1.orderBy(\"count\",ascending=False).show()"
   ]
  },
  {
   "cell_type": "code",
   "execution_count": 31,
   "metadata": {},
   "outputs": [],
   "source": [
    "# import Window\n",
    "from pyspark.sql.window import Window\n",
    "window_spec = Window.partitionBy(\"country\").orderBy(\"weeknum\")"
   ]
  },
  {
   "cell_type": "code",
   "execution_count": 35,
   "metadata": {},
   "outputs": [
    {
     "name": "stdout",
     "output_type": "stream",
     "text": [
      "+-------+-------+------------+----------+----+----------+\n",
      "|country|weeknum|invoicevalue|row_number|rank|dense_rank|\n",
      "+-------+-------+------------+----------+----+----------+\n",
      "|Austria|     44|       880.9|         1|   1|         1|\n",
      "|Austria|     48|       870.9|         2|   2|         2|\n",
      "|Belgium|     43|       970.0|         1|   1|         1|\n",
      "|Belgium|     49|       950.0|         2|   2|         2|\n",
      "|Czechia|     47|       515.0|         1|   1|         1|\n",
      "+-------+-------+------------+----------+----+----------+\n",
      "only showing top 5 rows\n",
      "\n"
     ]
    }
   ],
   "source": [
    "# Ranking functions\n",
    "df.select(\n",
    "    col(\"country\"),\n",
    "    col(\"weeknum\"),\n",
    "    col(\"invoicevalue\"),\n",
    "    row_number().over(window_spec).alias(\"row_number\"),\n",
    "    rank().over(window_spec).alias(\"rank\"),\n",
    "    dense_rank().over(window_spec).alias(\"dense_rank\")) \\\n",
    "    .show(5)"
   ]
  },
  {
   "cell_type": "code",
   "execution_count": null,
   "metadata": {},
   "outputs": [
    {
     "name": "stdout",
     "output_type": "stream",
     "text": [
      "+-------+-------+------------+----------+----+----------+\n",
      "|country|weeknum|invoicevalue|row_number|rank|dense_rank|\n",
      "+-------+-------+------------+----------+----+----------+\n",
      "|Germany|     46|      1750.0|         1|   1|         1|\n",
      "|Germany|     47|      2050.0|         2|   2|         2|\n",
      "|Germany|     48|      1600.0|         3|   3|         3|\n",
      "|Germany|     48|      2100.0|         4|   3|         3|\n",
      "|Germany|     49|      1800.0|         5|   5|         4|\n",
      "+-------+-------+------------+----------+----+----------+\n",
      "only showing top 5 rows\n",
      "\n"
     ]
    }
   ],
   "source": [
    "# Create filter \"country\" = \"Germany\"\n",
    "df.where(\"country == 'Germany'\").select(\n",
    "    col(\"country\"),\n",
    "    col(\"weeknum\"),\n",
    "    col(\"invoicevalue\"),\n",
    "    row_number().over(window_spec).alias(\"row_number\"),\n",
    "    rank().over(window_spec).alias(\"rank\"),\n",
    "    dense_rank().over(window_spec).alias(\"dense_rank\")) \\\n",
    "    .show(5)"
   ]
  },
  {
   "cell_type": "code",
   "execution_count": 38,
   "metadata": {},
   "outputs": [
    {
     "name": "stdout",
     "output_type": "stream",
     "text": [
      "+-------+-------+------------+----+----------+\n",
      "|country|weeknum|invoicevalue|rank|dense_rank|\n",
      "+-------+-------+------------+----+----------+\n",
      "| France|     45|      1400.5|   1|         1|\n",
      "| France|     49|      1350.0|   2|         2|\n",
      "| France|     49|      1500.0|   2|         2|\n",
      "| France|     50|      1200.5|   4|         3|\n",
      "+-------+-------+------------+----+----------+\n",
      "\n"
     ]
    }
   ],
   "source": [
    "# Creating filter: second way\n",
    "df.filter(df['country'] == 'France').select(\n",
    "    col(\"country\"),\n",
    "    col(\"weeknum\"),\n",
    "    col(\"invoicevalue\"),\n",
    "    rank().over(window_spec).alias(\"rank\"),\n",
    "    dense_rank().over(window_spec).alias(\"dense_rank\")\n",
    ").show()"
   ]
  },
  {
   "cell_type": "markdown",
   "metadata": {},
   "source": [
    "Window: orderby(invoicevalue)"
   ]
  },
  {
   "cell_type": "code",
   "execution_count": 39,
   "metadata": {},
   "outputs": [],
   "source": [
    "my_window = Window.partitionBy(\"country\").orderBy(\"invoicevalue\")"
   ]
  },
  {
   "cell_type": "code",
   "execution_count": 40,
   "metadata": {},
   "outputs": [
    {
     "name": "stdout",
     "output_type": "stream",
     "text": [
      "+-------+-------+-----------+-------------+------------+----+\n",
      "|country|weeknum|numinvoices|totalquantity|invoicevalue|rank|\n",
      "+-------+-------+-----------+-------------+------------+----+\n",
      "|Austria|     48|          6|          780|       870.9|   1|\n",
      "|Austria|     44|          6|          790|       880.9|   2|\n",
      "|Belgium|     49|          7|          900|       950.0|   1|\n",
      "|Belgium|     43|          7|          920|       970.0|   2|\n",
      "|Czechia|     49|          3|          400|       500.0|   1|\n",
      "|Czechia|     47|          3|          410|       515.0|   2|\n",
      "|Denmark|     48|          4|          510|       645.0|   1|\n",
      "|Denmark|     50|          4|          540|       670.1|   2|\n",
      "|Denmark|     50|          6|          700|       820.6|   3|\n",
      "|Finland|     50|          4|          560|       700.3|   1|\n",
      "|Finland|     50|          4|          700|       850.1|   2|\n",
      "|Finland|     49|          7|         1120|      1220.8|   3|\n",
      "|Finland|     47|          7|         1130|      1230.8|   4|\n",
      "| France|     50|          8|         1450|      1200.5|   1|\n",
      "| France|     49|          9|         1600|      1350.0|   2|\n",
      "| France|     45|          9|         1500|      1400.5|   3|\n",
      "| France|     49|         11|         1800|      1500.0|   4|\n",
      "|Germany|     48|         11|         1795|      1600.0|   1|\n",
      "|Germany|     46|         12|         1900|      1750.0|   2|\n",
      "|Germany|     49|         12|         1852|      1800.0|   3|\n",
      "+-------+-------+-----------+-------------+------------+----+\n",
      "only showing top 20 rows\n",
      "\n"
     ]
    }
   ],
   "source": [
    "df.withColumn(\"rank\", rank().over(my_window)).show()"
   ]
  },
  {
   "cell_type": "code",
   "execution_count": null,
   "metadata": {},
   "outputs": [
    {
     "name": "stdout",
     "output_type": "stream",
     "text": [
      "+-----------+-------+-----------+-------------+------------+----------+\n",
      "|    country|weeknum|numinvoices|totalquantity|invoicevalue|row_number|\n",
      "+-----------+-------+-----------+-------------+------------+----------+\n",
      "|    Austria|     48|          6|          780|       870.9|         1|\n",
      "|    Belgium|     49|          7|          900|       950.0|         1|\n",
      "|    Czechia|     49|          3|          400|       500.0|         1|\n",
      "|    Denmark|     48|          4|          510|       645.0|         1|\n",
      "|    Finland|     50|          4|          560|       700.3|         1|\n",
      "|     France|     50|          8|         1450|      1200.5|         1|\n",
      "|    Germany|     48|         11|         1795|      1600.0|         1|\n",
      "|    Hungary|     47|          5|          600|       740.2|         1|\n",
      "|    Ireland|     49|          6|          720|       810.3|         1|\n",
      "|      Italy|     48|          6|          980|       850.0|         1|\n",
      "|  Lithuania|     49|          5|          780|       650.9|         1|\n",
      "|Netherlands|     50|          4|          560|       670.8|         1|\n",
      "|     Norway|     49|          6|          720|       850.2|         1|\n",
      "|     Poland|     48|          8|         1245|      1360.5|         1|\n",
      "|   Portugal|     47|          3|          420|       510.2|         1|\n",
      "|   Slovakia|     50|          2|          250|       320.0|         1|\n",
      "|      Spain|     49|          1|           67|      174.72|         1|\n",
      "|     Sweden|     48|          5|          600|       755.6|         1|\n",
      "|Switzerland|     48|          8|         1240|      1355.0|         1|\n",
      "+-----------+-------+-----------+-------------+------------+----------+\n",
      "\n"
     ]
    }
   ],
   "source": [
    "# Lowest Sales of each country\n",
    "df_r = df.withColumn(\"row_number\", row_number().over(my_window))\n",
    "df_r.where(\"row_number == 1\").show()"
   ]
  },
  {
   "cell_type": "code",
   "execution_count": 43,
   "metadata": {},
   "outputs": [],
   "source": [
    "my_window1 = Window.partitionBy(\"country\").orderBy(desc(\"invoicevalue\"))"
   ]
  },
  {
   "cell_type": "code",
   "execution_count": null,
   "metadata": {},
   "outputs": [
    {
     "name": "stdout",
     "output_type": "stream",
     "text": [
      "+-----------+-------+-----------+-------------+------------+----------+\n",
      "|    country|weeknum|numinvoices|totalquantity|invoicevalue|row_number|\n",
      "+-----------+-------+-----------+-------------+------------+----------+\n",
      "|    Austria|     44|          6|          790|       880.9|         1|\n",
      "|    Belgium|     43|          7|          920|       970.0|         1|\n",
      "|    Czechia|     47|          3|          410|       515.0|         1|\n",
      "|    Denmark|     50|          6|          700|       820.6|         1|\n",
      "|    Finland|     47|          7|         1130|      1230.8|         1|\n",
      "|     France|     49|         11|         1800|      1500.0|         1|\n",
      "|    Germany|     48|         15|         1985|      2100.0|         1|\n",
      "|    Hungary|     45|          5|          620|       750.2|         1|\n",
      "|    Ireland|     49|          6|          720|       810.3|         1|\n",
      "|      Italy|     47|         10|         1420|      1325.5|         1|\n",
      "|  Lithuania|     48|         10|         6000|      1254.2|         1|\n",
      "|Netherlands|     42|          4|          570|       680.8|         1|\n",
      "|     Norway|     47|          6|          750|       890.2|         1|\n",
      "|     Poland|     50|          8|         1275|      1380.5|         1|\n",
      "|   Portugal|     41|          3|          430|       520.2|         1|\n",
      "|   Slovakia|     46|          2|          260|       325.0|         1|\n",
      "|      Spain|     47|          7|         1250|      1350.8|         1|\n",
      "|     Sweden|     46|          5|          620|       780.6|         1|\n",
      "|Switzerland|     40|          8|         1260|      1375.0|         1|\n",
      "+-----------+-------+-----------+-------------+------------+----------+\n",
      "\n"
     ]
    }
   ],
   "source": [
    "# Highest Sales of each country\n",
    "df_r = df.withColumn(\"row_number\", row_number().over(my_window1)).where(\"row_number == 1\").show()"
   ]
  },
  {
   "cell_type": "code",
   "execution_count": 46,
   "metadata": {},
   "outputs": [
    {
     "name": "stdout",
     "output_type": "stream",
     "text": [
      "+-----------+-------+-----------+-------------+------------+\n",
      "|    country|weeknum|numinvoices|totalquantity|invoicevalue|\n",
      "+-----------+-------+-----------+-------------+------------+\n",
      "|    Austria|     44|          6|          790|       880.9|\n",
      "|    Belgium|     43|          7|          920|       970.0|\n",
      "|    Czechia|     47|          3|          410|       515.0|\n",
      "|    Denmark|     50|          6|          700|       820.6|\n",
      "|    Finland|     47|          7|         1130|      1230.8|\n",
      "|     France|     49|         11|         1800|      1500.0|\n",
      "|    Germany|     48|         15|         1985|      2100.0|\n",
      "|    Hungary|     45|          5|          620|       750.2|\n",
      "|    Ireland|     49|          6|          720|       810.3|\n",
      "|      Italy|     47|         10|         1420|      1325.5|\n",
      "|  Lithuania|     48|         10|         6000|      1254.2|\n",
      "|Netherlands|     42|          4|          570|       680.8|\n",
      "|     Norway|     47|          6|          750|       890.2|\n",
      "|     Poland|     50|          8|         1275|      1380.5|\n",
      "|   Portugal|     41|          3|          430|       520.2|\n",
      "|   Slovakia|     46|          2|          260|       325.0|\n",
      "|      Spain|     47|          7|         1250|      1350.8|\n",
      "|     Sweden|     46|          5|          620|       780.6|\n",
      "|Switzerland|     40|          8|         1260|      1375.0|\n",
      "+-----------+-------+-----------+-------------+------------+\n",
      "\n"
     ]
    }
   ],
   "source": [
    "# Highest Sales of each country (delete row_number column which helped us to arrange data from highest to lowest)\n",
    "df_r  = df.withColumn(\"row_number\", row_number().over(my_window1)).where(\"row_number == 1\").drop(\"row_number\").show()"
   ]
  },
  {
   "cell_type": "markdown",
   "metadata": {},
   "source": [
    "Lead() and Lag() function"
   ]
  },
  {
   "cell_type": "code",
   "execution_count": 51,
   "metadata": {},
   "outputs": [
    {
     "name": "stdout",
     "output_type": "stream",
     "text": [
      "root\n",
      " |-- country: string (nullable = true)\n",
      " |-- weeknum: integer (nullable = true)\n",
      " |-- numinvoices: integer (nullable = true)\n",
      " |-- totalquantity: integer (nullable = true)\n",
      " |-- invoicevalue: float (nullable = true)\n",
      "\n"
     ]
    }
   ],
   "source": [
    "df.printSchema()"
   ]
  },
  {
   "cell_type": "code",
   "execution_count": null,
   "metadata": {},
   "outputs": [
    {
     "name": "stdout",
     "output_type": "stream",
     "text": [
      "+-------+-------+------------+--------------+\n",
      "|country|weeknum|invoicevalue|previous_sales|\n",
      "+-------+-------+------------+--------------+\n",
      "|Austria|     44|       880.9|          NULL|\n",
      "|Austria|     48|       870.9|         880.9|\n",
      "|Belgium|     43|       970.0|          NULL|\n",
      "|Belgium|     49|       950.0|         970.0|\n",
      "|Czechia|     47|       515.0|          NULL|\n",
      "+-------+-------+------------+--------------+\n",
      "only showing top 5 rows\n",
      "\n"
     ]
    }
   ],
   "source": [
    "# Using lag() function\n",
    "df.select(\n",
    "    col(\"country\"),\n",
    "    col(\"weeknum\"),\n",
    "    col(\"invoicevalue\"),\n",
    "    lag(\"invoicevalue\",1).over(window_spec).alias(\"preceding_sales\")\n",
    ").show(5)"
   ]
  },
  {
   "cell_type": "code",
   "execution_count": 54,
   "metadata": {},
   "outputs": [
    {
     "name": "stdout",
     "output_type": "stream",
     "text": [
      "+-------+-------+------------+----------+\n",
      "|country|weeknum|invoicevalue|next_sales|\n",
      "+-------+-------+------------+----------+\n",
      "|Austria|     44|       880.9|     870.9|\n",
      "|Austria|     48|       870.9|      NULL|\n",
      "|Belgium|     43|       970.0|     950.0|\n",
      "|Belgium|     49|       950.0|      NULL|\n",
      "|Czechia|     47|       515.0|     500.0|\n",
      "+-------+-------+------------+----------+\n",
      "only showing top 5 rows\n",
      "\n"
     ]
    }
   ],
   "source": [
    "# Using lead() function\n",
    "df.select(\n",
    "    col(\"country\"),\n",
    "    col(\"weeknum\"),\n",
    "    col(\"invoicevalue\"),\n",
    "    lead(\"invoicevalue\",1).over(window_spec).alias(\"next_sales\")\n",
    ").show(5)"
   ]
  },
  {
   "cell_type": "code",
   "execution_count": null,
   "metadata": {},
   "outputs": [
    {
     "name": "stdout",
     "output_type": "stream",
     "text": [
      "+-------+-------+------------------------+-----------+-----------+\n",
      "|country|weeknum|round(weekly_invoice, 1)|running_avg|running_sum|\n",
      "+-------+-------+------------------------+-----------+-----------+\n",
      "|Finland|     47|                  1230.8|     1230.8|     1230.8|\n",
      "|Finland|     49|                  1220.8|     1225.8|     2451.6|\n",
      "|Finland|     50|                  1550.4|     1334.0|     4002.0|\n",
      "| France|     45|                  1400.5|     1400.5|     1400.5|\n",
      "| France|     49|                  2850.0|     2125.3|     4250.5|\n",
      "| France|     50|                  1200.5|     1817.0|     5451.0|\n",
      "+-------+-------+------------------------+-----------+-----------+\n",
      "\n"
     ]
    }
   ],
   "source": [
    "# Aggregation columns:\n",
    "# First, we need to groupby \"country\" and then by \"weeknum\", in order to group the sales of \"weeknum\", then applying aggregation\n",
    "df_agg = df.groupBy(\"country\",\"weeknum\").agg(sum(\"invoicevalue\").alias(\"weekly_invoice\"))\n",
    "\n",
    "df_agg.where(\"country IN ('Finland','France')\").select(\n",
    "    col(\"country\"),\n",
    "    col(\"weeknum\"),\n",
    "    round(col(\"weekly_invoice\"),1),\n",
    "    round(avg(\"weekly_invoice\").over(window_spec),1).alias(\"running_avg\"),\n",
    "    round(sum(\"weekly_invoice\").over(window_spec),1).alias(\"running_sum\")).show()"
   ]
  },
  {
   "cell_type": "code",
   "execution_count": 69,
   "metadata": {},
   "outputs": [
    {
     "name": "stdout",
     "output_type": "stream",
     "text": [
      "+-------+-------+-----------+-------------+------------+-------------+-----------------+\n",
      "|country|weeknum|numinvoices|totalquantity|invoicevalue|previous_week|different_invoice|\n",
      "+-------+-------+-----------+-------------+------------+-------------+-----------------+\n",
      "|Austria|     44|          6|          790|       880.9|         NULL|             NULL|\n",
      "|Austria|     48|          6|          780|       870.9|        880.9|            -10.0|\n",
      "|Belgium|     43|          7|          920|       970.0|         NULL|             NULL|\n",
      "|Belgium|     49|          7|          900|       950.0|        970.0|            -20.0|\n",
      "|Czechia|     47|          3|          410|       515.0|         NULL|             NULL|\n",
      "|Czechia|     49|          3|          400|       500.0|        515.0|            -15.0|\n",
      "|Denmark|     48|          4|          510|       645.0|         NULL|             NULL|\n",
      "|Denmark|     50|          4|          540|       670.1|        645.0|        25.099976|\n",
      "|Denmark|     50|          6|          700|       820.6|        670.1|            150.5|\n",
      "|Finland|     47|          7|         1130|      1230.8|         NULL|             NULL|\n",
      "|Finland|     49|          7|         1120|      1220.8|       1230.8|            -10.0|\n",
      "|Finland|     50|          4|          560|       700.3|       1220.8|       -520.50006|\n",
      "|Finland|     50|          4|          700|       850.1|        700.3|        149.79999|\n",
      "| France|     45|          9|         1500|      1400.5|         NULL|             NULL|\n",
      "| France|     49|          9|         1600|      1350.0|       1400.5|            -50.5|\n",
      "| France|     49|         11|         1800|      1500.0|       1350.0|            150.0|\n",
      "| France|     50|          8|         1450|      1200.5|       1500.0|           -299.5|\n",
      "|Germany|     46|         12|         1900|      1750.0|         NULL|             NULL|\n",
      "|Germany|     47|         15|         2200|      2050.0|       1750.0|            300.0|\n",
      "|Germany|     48|         11|         1795|      1600.0|       2050.0|           -450.0|\n",
      "+-------+-------+-----------+-------------+------------+-------------+-----------------+\n",
      "only showing top 20 rows\n",
      "\n"
     ]
    }
   ],
   "source": [
    "#1: Second way\n",
    "df.withColumn(\"previous_week\", lag(\"invoicevalue\").over(window_spec)) \\\n",
    "    .withColumn(\"different_invoice\",expr(\"invoicevalue - previous_week\")).show()"
   ]
  },
  {
   "cell_type": "code",
   "execution_count": 70,
   "metadata": {},
   "outputs": [
    {
     "name": "stdout",
     "output_type": "stream",
     "text": [
      "+-------+-------+-----------+-------------+------------+------------+------------+\n",
      "|country|weeknum|numinvoices|totalquantity|invoicevalue|next_invoice|diff_invoice|\n",
      "+-------+-------+-----------+-------------+------------+------------+------------+\n",
      "|Austria|     44|          6|          790|       880.9|       870.9|        10.0|\n",
      "|Austria|     48|          6|          780|       870.9|        NULL|        NULL|\n",
      "|Belgium|     43|          7|          920|       970.0|       950.0|        20.0|\n",
      "|Belgium|     49|          7|          900|       950.0|        NULL|        NULL|\n",
      "|Czechia|     47|          3|          410|       515.0|       500.0|        15.0|\n",
      "|Czechia|     49|          3|          400|       500.0|        NULL|        NULL|\n",
      "|Denmark|     48|          4|          510|       645.0|       670.1|  -25.099976|\n",
      "|Denmark|     50|          4|          540|       670.1|       820.6|      -150.5|\n",
      "|Denmark|     50|          6|          700|       820.6|        NULL|        NULL|\n",
      "|Finland|     47|          7|         1130|      1230.8|      1220.8|        10.0|\n",
      "|Finland|     49|          7|         1120|      1220.8|       700.3|   520.50006|\n",
      "|Finland|     50|          4|          560|       700.3|       850.1|  -149.79999|\n",
      "|Finland|     50|          4|          700|       850.1|        NULL|        NULL|\n",
      "| France|     45|          9|         1500|      1400.5|      1350.0|        50.5|\n",
      "| France|     49|          9|         1600|      1350.0|      1500.0|      -150.0|\n",
      "| France|     49|         11|         1800|      1500.0|      1200.5|       299.5|\n",
      "| France|     50|          8|         1450|      1200.5|        NULL|        NULL|\n",
      "|Germany|     46|         12|         1900|      1750.0|      2050.0|      -300.0|\n",
      "|Germany|     47|         15|         2200|      2050.0|      1600.0|       450.0|\n",
      "|Germany|     48|         11|         1795|      1600.0|      2100.0|      -500.0|\n",
      "+-------+-------+-----------+-------------+------------+------------+------------+\n",
      "only showing top 20 rows\n",
      "\n"
     ]
    }
   ],
   "source": [
    "# Third way with LEAD()\n",
    "df.withColumn(\"next_invoice\", lead(\"invoicevalue\").over(window_spec)) \\\n",
    "    .withColumn(\"diff_invoice\", expr(\"invoicevalue - next_invoice\")).show()"
   ]
  }
 ],
 "metadata": {
  "kernelspec": {
   "display_name": "myenv",
   "language": "python",
   "name": "python3"
  },
  "language_info": {
   "codemirror_mode": {
    "name": "ipython",
    "version": 3
   },
   "file_extension": ".py",
   "mimetype": "text/x-python",
   "name": "python",
   "nbconvert_exporter": "python",
   "pygments_lexer": "ipython3",
   "version": "3.10.0"
  }
 },
 "nbformat": 4,
 "nbformat_minor": 2
}
